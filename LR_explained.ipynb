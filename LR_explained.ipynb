{
  "nbformat": 4,
  "nbformat_minor": 0,
  "metadata": {
    "colab": {
      "name": "LR_explained.ipynb",
      "provenance": [],
      "collapsed_sections": [
        "8yPO6fcDGZYc"
      ],
      "toc_visible": true,
      "authorship_tag": "ABX9TyMVLmv6/f4yx7mGgOqlGidw",
      "include_colab_link": true
    },
    "kernelspec": {
      "name": "python3",
      "display_name": "Python 3"
    },
    "accelerator": "GPU"
  },
  "cells": [
    {
      "cell_type": "markdown",
      "metadata": {
        "id": "view-in-github",
        "colab_type": "text"
      },
      "source": [
        "<a href=\"https://colab.research.google.com/github/tomdyer10/examples/blob/master/LR_explained.ipynb\" target=\"_parent\"><img src=\"https://colab.research.google.com/assets/colab-badge.svg\" alt=\"Open In Colab\"/></a>"
      ]
    },
    {
      "cell_type": "markdown",
      "metadata": {
        "id": "XWKnwB6-HhU3",
        "colab_type": "text"
      },
      "source": [
        "This notebook introduces the concepts of the '1 cycle' policy for optimisation of Nueral network training hyperparameters.\n",
        "\n",
        "\"The art of setting the network's hyper-parameters amounts to ending up at the balancing point between underfitting and overfitting\" - Leslie Smith"
      ]
    },
    {
      "cell_type": "markdown",
      "metadata": {
        "id": "8yPO6fcDGZYc",
        "colab_type": "text"
      },
      "source": [
        "# Resources"
      ]
    },
    {
      "cell_type": "markdown",
      "metadata": {
        "id": "HrKbqrHkGbU6",
        "colab_type": "text"
      },
      "source": [
        "**Useful resources on learning rate, cyclical learning rate and '1 cycle' policy:**\n",
        "\n",
        "Original research paper:\n",
        "- https://arxiv.org/abs/1803.09820\n",
        "\n",
        "Fast AI blog post:\n",
        "- https://sgugger.github.io/the-1cycle-policy.html\n",
        "\n",
        "Accompanying python notebook:\n",
        "- https://github.com/sgugger/Deep-Learning/blob/master/Cyclical%20LR%20and%20momentums.ipynb\n",
        "\n",
        "Medium article reviewing 1 cycle policy research paper:\n",
        "- https://towardsdatascience.com/finding-good-learning-rate-and-the-one-cycle-policy-7159fe1db5d6\n",
        "\n",
        "Fast AI forum thread on cyclical momentum:\n",
        "- https://forums.fast.ai/t/project-cyclical-momentum/14435\n"
      ]
    },
    {
      "cell_type": "markdown",
      "metadata": {
        "id": "xodNDj1AXYfY",
        "colab_type": "text"
      },
      "source": [
        "# What is Learning rate?"
      ]
    },
    {
      "cell_type": "markdown",
      "metadata": {
        "id": "ohR-w4KZXcRx",
        "colab_type": "text"
      },
      "source": [
        "Learning rate is the 'step size' with which we adjust the weights of our algorithm in the training stage, during the process of Stochastic Gradient Descent (SGD).\n",
        "\n",
        "Getting the correct learning rate helps minimise under/overfitting in our model.\n",
        "\n",
        "This image shows the issues of a learning rate that is too large or too small:\n",
        "\n",
        "![alt text](https://miro.medium.com/max/1600/1*n79s9gvd0E8ALe9dLUEKAw.png)"
      ]
    },
    {
      "cell_type": "markdown",
      "metadata": {
        "id": "Lctdz9uxYkMQ",
        "colab_type": "text"
      },
      "source": [
        "Traditional approaches find the perfect learning rate and keep this constant throught the training stage:\n",
        "\n",
        "![alt text](https://developers.google.com/machine-learning/crash-course/images/LearningRateJustRight.svg)"
      ]
    },
    {
      "cell_type": "markdown",
      "metadata": {
        "id": "04JZrqf-H5v8",
        "colab_type": "text"
      },
      "source": [
        "# Setting Learning Rate"
      ]
    },
    {
      "cell_type": "code",
      "metadata": {
        "id": "ZJ7pO-jjH8yd",
        "colab_type": "code",
        "colab": {}
      },
      "source": [
        "%matplotlib inline\n",
        "%reload_ext autoreload\n",
        "%autoreload 2"
      ],
      "execution_count": 0,
      "outputs": []
    },
    {
      "cell_type": "markdown",
      "metadata": {
        "id": "sYDzWVs2IcMh",
        "colab_type": "text"
      },
      "source": [
        "Load up a familiar computer vision problem"
      ]
    },
    {
      "cell_type": "code",
      "metadata": {
        "id": "w6wiuWRXICA_",
        "colab_type": "code",
        "colab": {}
      },
      "source": [
        "from fastai.vision import *\n",
        "from fastai.metrics import error_rate"
      ],
      "execution_count": 0,
      "outputs": []
    },
    {
      "cell_type": "code",
      "metadata": {
        "id": "f_wn5HeqIK8a",
        "colab_type": "code",
        "colab": {
          "base_uri": "https://localhost:8080/",
          "height": 34
        },
        "outputId": "4ad21bb0-4f28-4a15-d315-9c656c693329"
      },
      "source": [
        "path = untar_data(URLs.PETS); path"
      ],
      "execution_count": 11,
      "outputs": [
        {
          "output_type": "execute_result",
          "data": {
            "text/plain": [
              "PosixPath('/root/.fastai/data/oxford-iiit-pet')"
            ]
          },
          "metadata": {
            "tags": []
          },
          "execution_count": 11
        }
      ]
    },
    {
      "cell_type": "code",
      "metadata": {
        "id": "y7p0u1PPIXMd",
        "colab_type": "code",
        "colab": {}
      },
      "source": [
        "path_anno = path/'annotations'\n",
        "path_img = path/'images'"
      ],
      "execution_count": 0,
      "outputs": []
    },
    {
      "cell_type": "code",
      "metadata": {
        "id": "GFE7Tgd6IrTz",
        "colab_type": "code",
        "colab": {}
      },
      "source": [
        "bs = 64"
      ],
      "execution_count": 0,
      "outputs": []
    },
    {
      "cell_type": "code",
      "metadata": {
        "id": "NjqK6W5BIaFT",
        "colab_type": "code",
        "colab": {}
      },
      "source": [
        "fnames = get_image_files(path_img)\n",
        "np.random.seed(2)\n",
        "pat = r'/([^/]+)_\\d+.jpg$'\n",
        "data = ImageDataBunch.from_name_re(path_img, fnames, pat, ds_tfms=get_transforms(),\n",
        "                                   size=299, bs=bs//2).normalize(imagenet_stats)"
      ],
      "execution_count": 0,
      "outputs": []
    },
    {
      "cell_type": "code",
      "metadata": {
        "id": "bPrGHCk6IpiK",
        "colab_type": "code",
        "colab": {
          "base_uri": "https://localhost:8080/",
          "height": 54
        },
        "outputId": "59cf6bb3-4b75-4613-baa0-15a2b3fc93b0"
      },
      "source": [
        "print(data.classes)\n"
      ],
      "execution_count": 21,
      "outputs": [
        {
          "output_type": "stream",
          "text": [
            "['Abyssinian', 'Bengal', 'Birman', 'Bombay', 'British_Shorthair', 'Egyptian_Mau', 'Maine_Coon', 'Persian', 'Ragdoll', 'Russian_Blue', 'Siamese', 'Sphynx', 'american_bulldog', 'american_pit_bull_terrier', 'basset_hound', 'beagle', 'boxer', 'chihuahua', 'english_cocker_spaniel', 'english_setter', 'german_shorthaired', 'great_pyrenees', 'havanese', 'japanese_chin', 'keeshond', 'leonberger', 'miniature_pinscher', 'newfoundland', 'pomeranian', 'pug', 'saint_bernard', 'samoyed', 'scottish_terrier', 'shiba_inu', 'staffordshire_bull_terrier', 'wheaten_terrier', 'yorkshire_terrier']\n"
          ],
          "name": "stdout"
        }
      ]
    },
    {
      "cell_type": "code",
      "metadata": {
        "id": "J7IBBZw0ItEU",
        "colab_type": "code",
        "colab": {}
      },
      "source": [
        "#load model\n",
        "learn = cnn_learner(data, models.resnet50, metrics=error_rate)"
      ],
      "execution_count": 0,
      "outputs": []
    },
    {
      "cell_type": "code",
      "metadata": {
        "id": "78K_BmMbI-fs",
        "colab_type": "code",
        "colab": {
          "base_uri": "https://localhost:8080/",
          "height": 374
        },
        "outputId": "570916c7-72bc-4a56-d680-1e2a906bbb03"
      },
      "source": [
        "#find learning rate and plot results\n",
        "learn.lr_find()\n",
        "learn.recorder.plot()"
      ],
      "execution_count": 23,
      "outputs": [
        {
          "output_type": "display_data",
          "data": {
            "text/html": [
              "\n",
              "    <div>\n",
              "        <style>\n",
              "            /* Turns off some styling */\n",
              "            progress {\n",
              "                /* gets rid of default border in Firefox and Opera. */\n",
              "                border: none;\n",
              "                /* Needs to be in here for Safari polyfill so background images work as expected. */\n",
              "                background-size: auto;\n",
              "            }\n",
              "            .progress-bar-interrupted, .progress-bar-interrupted::-webkit-progress-bar {\n",
              "                background: #F44336;\n",
              "            }\n",
              "        </style>\n",
              "      <progress value='0' class='' max='1', style='width:300px; height:20px; vertical-align: middle;'></progress>\n",
              "      0.00% [0/1 00:00<00:00]\n",
              "    </div>\n",
              "    \n",
              "<table border=\"1\" class=\"dataframe\">\n",
              "  <thead>\n",
              "    <tr style=\"text-align: left;\">\n",
              "      <th>epoch</th>\n",
              "      <th>train_loss</th>\n",
              "      <th>valid_loss</th>\n",
              "      <th>error_rate</th>\n",
              "      <th>time</th>\n",
              "    </tr>\n",
              "  </thead>\n",
              "  <tbody>\n",
              "  </tbody>\n",
              "</table><p>\n",
              "\n",
              "    <div>\n",
              "        <style>\n",
              "            /* Turns off some styling */\n",
              "            progress {\n",
              "                /* gets rid of default border in Firefox and Opera. */\n",
              "                border: none;\n",
              "                /* Needs to be in here for Safari polyfill so background images work as expected. */\n",
              "                background-size: auto;\n",
              "            }\n",
              "            .progress-bar-interrupted, .progress-bar-interrupted::-webkit-progress-bar {\n",
              "                background: #F44336;\n",
              "            }\n",
              "        </style>\n",
              "      <progress value='88' class='' max='184', style='width:300px; height:20px; vertical-align: middle;'></progress>\n",
              "      47.83% [88/184 01:03<01:08 10.0820]\n",
              "    </div>\n",
              "    "
            ],
            "text/plain": [
              "<IPython.core.display.HTML object>"
            ]
          },
          "metadata": {
            "tags": []
          }
        },
        {
          "output_type": "stream",
          "text": [
            "LR Finder is complete, type {learner_name}.recorder.plot() to see the graph.\n"
          ],
          "name": "stdout"
        },
        {
          "output_type": "display_data",
          "data": {
            "image/png": "[encoded data removed]",
            "text/plain": [
              "<Figure size 432x288 with 1 Axes>"
            ]
          },
          "metadata": {
            "tags": []
          }
        }
      ]
    },
    {
      "cell_type": "markdown",
      "metadata": {
        "id": "Ce5FZGzffK_p",
        "colab_type": "text"
      },
      "source": [
        "**How does this work?**\n",
        "\n",
        "lr_find will train the learner over a few iterations, starting with very low learning rate (lr) and ending with a very high lr. Recorder will record the model loss of each iteration and plot these losses.\n",
        "\n",
        "We are looking for an order of magnitude of learning rate so we plot a logarithmic scale.\n",
        "\n",
        "**Choosing a good learning rate:**\n",
        "We want to choose a value which is roughly in the middle of the sharpest downward slope (with the largest negative gradient for model loss)\n",
        "\n",
        "By passing suggestion=True into our learn.recorder.plot(), we can display a point at the steepest gradient.\n",
        "\n"
      ]
    },
    {
      "cell_type": "code",
      "metadata": {
        "id": "wUM5ACa0go46",
        "colab_type": "code",
        "colab": {
          "base_uri": "https://localhost:8080/",
          "height": 313
        },
        "outputId": "bfc27d03-506d-43d2-a73c-85053da1986f"
      },
      "source": [
        "learn.recorder.plot(suggestion=True)"
      ],
      "execution_count": 24,
      "outputs": [
        {
          "output_type": "stream",
          "text": [
            "Min numerical gradient: 3.02E-03\n",
            "Min loss divided by 10: 5.75E-03\n"
          ],
          "name": "stdout"
        },
        {
          "output_type": "display_data",
          "data": {
            "image/png": "[encoded data removed]",
            "text/plain": [
              "<Figure size 432x288 with 1 Axes>"
            ]
          },
          "metadata": {
            "tags": []
          }
        }
      ]
    },
    {
      "cell_type": "markdown",
      "metadata": {
        "id": "7RKtATqjhmTM",
        "colab_type": "text"
      },
      "source": [
        "We can now fit this model based on the optimal learning rate that lr_find has determined:"
      ]
    },
    {
      "cell_type": "code",
      "metadata": {
        "id": "BNDrvCOuJK9u",
        "colab_type": "code",
        "colab": {
          "base_uri": "https://localhost:8080/",
          "height": 297
        },
        "outputId": "236fc8e7-d353-4f08-81fc-3eb5a5e039fb"
      },
      "source": [
        "learn.fit(8, 1e-03)"
      ],
      "execution_count": 25,
      "outputs": [
        {
          "output_type": "display_data",
          "data": {
            "text/html": [
              "<table border=\"1\" class=\"dataframe\">\n",
              "  <thead>\n",
              "    <tr style=\"text-align: left;\">\n",
              "      <th>epoch</th>\n",
              "      <th>train_loss</th>\n",
              "      <th>valid_loss</th>\n",
              "      <th>error_rate</th>\n",
              "      <th>time</th>\n",
              "    </tr>\n",
              "  </thead>\n",
              "  <tbody>\n",
              "    <tr>\n",
              "      <td>0</td>\n",
              "      <td>0.514219</td>\n",
              "      <td>0.228790</td>\n",
              "      <td>0.072395</td>\n",
              "      <td>02:23</td>\n",
              "    </tr>\n",
              "    <tr>\n",
              "      <td>1</td>\n",
              "      <td>0.381864</td>\n",
              "      <td>0.248170</td>\n",
              "      <td>0.078484</td>\n",
              "      <td>02:22</td>\n",
              "    </tr>\n",
              "    <tr>\n",
              "      <td>2</td>\n",
              "      <td>0.302446</td>\n",
              "      <td>0.218735</td>\n",
              "      <td>0.067659</td>\n",
              "      <td>02:22</td>\n",
              "    </tr>\n",
              "    <tr>\n",
              "      <td>3</td>\n",
              "      <td>0.271777</td>\n",
              "      <td>0.214233</td>\n",
              "      <td>0.061570</td>\n",
              "      <td>02:22</td>\n",
              "    </tr>\n",
              "    <tr>\n",
              "      <td>4</td>\n",
              "      <td>0.241804</td>\n",
              "      <td>0.231466</td>\n",
              "      <td>0.069012</td>\n",
              "      <td>02:20</td>\n",
              "    </tr>\n",
              "    <tr>\n",
              "      <td>5</td>\n",
              "      <td>0.199389</td>\n",
              "      <td>0.233813</td>\n",
              "      <td>0.067659</td>\n",
              "      <td>02:22</td>\n",
              "    </tr>\n",
              "    <tr>\n",
              "      <td>6</td>\n",
              "      <td>0.171323</td>\n",
              "      <td>0.198591</td>\n",
              "      <td>0.064953</td>\n",
              "      <td>02:21</td>\n",
              "    </tr>\n",
              "    <tr>\n",
              "      <td>7</td>\n",
              "      <td>0.175570</td>\n",
              "      <td>0.197474</td>\n",
              "      <td>0.062246</td>\n",
              "      <td>02:20</td>\n",
              "    </tr>\n",
              "  </tbody>\n",
              "</table>"
            ],
            "text/plain": [
              "<IPython.core.display.HTML object>"
            ]
          },
          "metadata": {
            "tags": []
          }
        }
      ]
    },
    {
      "cell_type": "code",
      "metadata": {
        "id": "F6tv4_YeqN9x",
        "colab_type": "code",
        "colab": {
          "base_uri": "https://localhost:8080/",
          "height": 279
        },
        "outputId": "69e47471-3253-4818-f3ee-b1ec099366a9"
      },
      "source": [
        "#here we can see our learning rate stayed constant throughout training\n",
        "learn.recorder.plot_lr()"
      ],
      "execution_count": 28,
      "outputs": [
        {
          "output_type": "display_data",
          "data": {
            "image/png": "[encoded data removed]",
            "text/plain": [
              "<Figure size 432x288 with 1 Axes>"
            ]
          },
          "metadata": {
            "tags": []
          }
        }
      ]
    },
    {
      "cell_type": "code",
      "metadata": {
        "id": "TG328CGbqpl5",
        "colab_type": "code",
        "colab": {
          "base_uri": "https://localhost:8080/",
          "height": 279
        },
        "outputId": "4524c7f1-b9f5-4a23-c73a-8d6dfad520c7"
      },
      "source": [
        "#plot error rate\n",
        "learn.recorder.plot_metrics()"
      ],
      "execution_count": 30,
      "outputs": [
        {
          "output_type": "display_data",
          "data": {
            "image/png": "[encoded data removed]",
            "text/plain": [
              "<Figure size 432x288 with 1 Axes>"
            ]
          },
          "metadata": {
            "tags": []
          }
        }
      ]
    },
    {
      "cell_type": "markdown",
      "metadata": {
        "id": "6dLM3uB-iLRp",
        "colab_type": "text"
      },
      "source": [
        "This model performance is based on a constant learning rate"
      ]
    },
    {
      "cell_type": "markdown",
      "metadata": {
        "id": "6uLSp1bAiXG5",
        "colab_type": "text"
      },
      "source": [
        "# Cyclical Learning Rate"
      ]
    },
    {
      "cell_type": "markdown",
      "metadata": {
        "id": "iz8W2jbYi8jC",
        "colab_type": "text"
      },
      "source": [
        "If LR is too small, the model can overfit and training is very slow. However, if the LR is too large, the model can diverge (see first image).\n",
        "\n",
        "\n",
        "Cyclical Learning Rates (CLR) uses a combination of high and low learning rates to improve model training. Higher learning rates will help models get out of saddle points. Lower learning rates will help the model converge.\n",
        "\n",
        "CLR happens in cycles where a cycle is the number of iterations where we go from lower bound learning rate to higher bound and back to lower bound. Cycle may not have boundary on epoch, but in practice it usually does. Stepsize is half of cycle. So Stepsize is number of iterations where we want learning rate to go from one bound to the other.\n",
        "\n",
        "![alt text](https://miro.medium.com/max/784/1*fI0l_gIezdHLFlZpJ2s8iA.png)\n",
        "\n"
      ]
    },
    {
      "cell_type": "code",
      "metadata": {
        "id": "92NRdKFHr5Md",
        "colab_type": "code",
        "colab": {}
      },
      "source": [
        ""
      ],
      "execution_count": 0,
      "outputs": []
    },
    {
      "cell_type": "markdown",
      "metadata": {
        "id": "ycRLhqZPtGlS",
        "colab_type": "text"
      },
      "source": [
        "# One Cycle Policy"
      ]
    },
    {
      "cell_type": "markdown",
      "metadata": {
        "id": "bj5TQPmatyvN",
        "colab_type": "text"
      },
      "source": [
        "The one cycle policy is introduced by the 2018 paper by Leslie Smith, where he suggests a modification of CLR where only one cycle is used that is smaller than the total number of iterations/epochs and allow learning rate to decrease several orders of magnitude less than initial LR for the remaining iterations.\n",
        "\n",
        "This means the learning rate looks like this:\n",
        "\n",
        "![alt text](https://sgugger.github.io/images/art5_lr_schedule.png)\n",
        "\n",
        "This can be easily accessed by fast ai using the fit_one_cycle method:"
      ]
    },
    {
      "cell_type": "code",
      "metadata": {
        "id": "LYDKDtWBtJCW",
        "colab_type": "code",
        "colab": {
          "base_uri": "https://localhost:8080/",
          "height": 392
        },
        "outputId": "227134c9-63fc-47de-d051-0e523d737c17"
      },
      "source": [
        "learn = cnn_learner(data, models.resnet50, metrics=error_rate)\n",
        "learn.lr_find()\n",
        "learn.fit_one_cycle(8)"
      ],
      "execution_count": 43,
      "outputs": [
        {
          "output_type": "display_data",
          "data": {
            "text/html": [
              "\n",
              "    <div>\n",
              "        <style>\n",
              "            /* Turns off some styling */\n",
              "            progress {\n",
              "                /* gets rid of default border in Firefox and Opera. */\n",
              "                border: none;\n",
              "                /* Needs to be in here for Safari polyfill so background images work as expected. */\n",
              "                background-size: auto;\n",
              "            }\n",
              "            .progress-bar-interrupted, .progress-bar-interrupted::-webkit-progress-bar {\n",
              "                background: #F44336;\n",
              "            }\n",
              "        </style>\n",
              "      <progress value='0' class='' max='1', style='width:300px; height:20px; vertical-align: middle;'></progress>\n",
              "      0.00% [0/1 00:00<00:00]\n",
              "    </div>\n",
              "    \n",
              "<table border=\"1\" class=\"dataframe\">\n",
              "  <thead>\n",
              "    <tr style=\"text-align: left;\">\n",
              "      <th>epoch</th>\n",
              "      <th>train_loss</th>\n",
              "      <th>valid_loss</th>\n",
              "      <th>error_rate</th>\n",
              "      <th>time</th>\n",
              "    </tr>\n",
              "  </thead>\n",
              "  <tbody>\n",
              "  </tbody>\n",
              "</table><p>\n",
              "\n",
              "    <div>\n",
              "        <style>\n",
              "            /* Turns off some styling */\n",
              "            progress {\n",
              "                /* gets rid of default border in Firefox and Opera. */\n",
              "                border: none;\n",
              "                /* Needs to be in here for Safari polyfill so background images work as expected. */\n",
              "                background-size: auto;\n",
              "            }\n",
              "            .progress-bar-interrupted, .progress-bar-interrupted::-webkit-progress-bar {\n",
              "                background: #F44336;\n",
              "            }\n",
              "        </style>\n",
              "      <progress value='88' class='' max='184', style='width:300px; height:20px; vertical-align: middle;'></progress>\n",
              "      47.83% [88/184 00:59<01:05 8.9843]\n",
              "    </div>\n",
              "    "
            ],
            "text/plain": [
              "<IPython.core.display.HTML object>"
            ]
          },
          "metadata": {
            "tags": []
          }
        },
        {
          "output_type": "stream",
          "text": [
            "LR Finder is complete, type {learner_name}.recorder.plot() to see the graph.\n"
          ],
          "name": "stdout"
        },
        {
          "output_type": "display_data",
          "data": {
            "text/html": [
              "<table border=\"1\" class=\"dataframe\">\n",
              "  <thead>\n",
              "    <tr style=\"text-align: left;\">\n",
              "      <th>epoch</th>\n",
              "      <th>train_loss</th>\n",
              "      <th>valid_loss</th>\n",
              "      <th>error_rate</th>\n",
              "      <th>time</th>\n",
              "    </tr>\n",
              "  </thead>\n",
              "  <tbody>\n",
              "    <tr>\n",
              "      <td>0</td>\n",
              "      <td>0.702489</td>\n",
              "      <td>0.284735</td>\n",
              "      <td>0.092693</td>\n",
              "      <td>02:22</td>\n",
              "    </tr>\n",
              "    <tr>\n",
              "      <td>1</td>\n",
              "      <td>0.522114</td>\n",
              "      <td>0.272576</td>\n",
              "      <td>0.081867</td>\n",
              "      <td>02:22</td>\n",
              "    </tr>\n",
              "    <tr>\n",
              "      <td>2</td>\n",
              "      <td>0.469177</td>\n",
              "      <td>0.246410</td>\n",
              "      <td>0.080514</td>\n",
              "      <td>02:21</td>\n",
              "    </tr>\n",
              "    <tr>\n",
              "      <td>3</td>\n",
              "      <td>0.302803</td>\n",
              "      <td>0.193158</td>\n",
              "      <td>0.060893</td>\n",
              "      <td>02:21</td>\n",
              "    </tr>\n",
              "    <tr>\n",
              "      <td>4</td>\n",
              "      <td>0.265929</td>\n",
              "      <td>0.176544</td>\n",
              "      <td>0.051421</td>\n",
              "      <td>02:19</td>\n",
              "    </tr>\n",
              "    <tr>\n",
              "      <td>5</td>\n",
              "      <td>0.216269</td>\n",
              "      <td>0.166456</td>\n",
              "      <td>0.050068</td>\n",
              "      <td>02:20</td>\n",
              "    </tr>\n",
              "    <tr>\n",
              "      <td>6</td>\n",
              "      <td>0.119575</td>\n",
              "      <td>0.149753</td>\n",
              "      <td>0.041949</td>\n",
              "      <td>02:19</td>\n",
              "    </tr>\n",
              "    <tr>\n",
              "      <td>7</td>\n",
              "      <td>0.101975</td>\n",
              "      <td>0.150364</td>\n",
              "      <td>0.045332</td>\n",
              "      <td>02:19</td>\n",
              "    </tr>\n",
              "  </tbody>\n",
              "</table>"
            ],
            "text/plain": [
              "<IPython.core.display.HTML object>"
            ]
          },
          "metadata": {
            "tags": []
          }
        }
      ]
    },
    {
      "cell_type": "code",
      "metadata": {
        "id": "mY-kRT2Lv9X1",
        "colab_type": "code",
        "colab": {}
      },
      "source": [
        "#fine tune with more specific min and max lr\n"
      ],
      "execution_count": 0,
      "outputs": []
    },
    {
      "cell_type": "markdown",
      "metadata": {
        "id": "4pNJRQZM0Nwk",
        "colab_type": "text"
      },
      "source": [
        "# Cyclical Momentum"
      ]
    },
    {
      "cell_type": "markdown",
      "metadata": {
        "id": "hwIFR2iD0SUo",
        "colab_type": "text"
      },
      "source": [
        "Momentum is very similar to learning rate, it is a factor which influences the way a weight is updated in our network. \n",
        "\n",
        "![alt text](https://miro.medium.com/max/878/1*KOBqwaaawtFwHW5uvLr26g.png)\n",
        "\n",
        "Optimal momentum values will improve model training. In the fast ai fit_one_cycle moment looks like this:\n",
        "![alt text](https://sgugger.github.io/images/art5_full_schedule.png)\n",
        "\n",
        "Mirroring the learning rate so as not to pseudo-accelerate the training."
      ]
    },
    {
      "cell_type": "code",
      "metadata": {
        "id": "ZYr-1Q5B0SCT",
        "colab_type": "code",
        "colab": {}
      },
      "source": [
        ""
      ],
      "execution_count": 0,
      "outputs": []
    },
    {
      "cell_type": "code",
      "metadata": {
        "id": "2-SVfNZ70RTh",
        "colab_type": "code",
        "colab": {}
      },
      "source": [
        ""
      ],
      "execution_count": 0,
      "outputs": []
    }
  ]
}